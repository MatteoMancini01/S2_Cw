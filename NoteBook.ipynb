{
 "cells": [
  {
   "cell_type": "markdown",
   "metadata": {},
   "source": [
    "# Advanced Statistical Methods for Data Intensive Science (Lent Term Project)\n",
    "\n",
    "### Overview\n",
    "\n",
    "In 1901 Captain Dimitrios Kontos and a crew of sponge divers, retrived numerous large objects from an ancient Roman cargo ship, 45 meters below the sea level, near the island of Antikythera (Greek island located in the Mediterranean Sea). Among the many objects retrived from the wreckage there was a tool, that is now know as the Antikythera mechanism.\n",
    "\n",
    "The mechanism was designed by ancient Greek astronomers during the second century BC. This was the first known analog computer in human history. This consists of a ca;emdar ring with holes punched at the extrimity of its circumference. Unfortunaly approximatelly $25\\%$ of the ring survived. We used to believe that the full ring contained $365$ holes, impling that the mechanism was used as a solar calendar. While, a new theory suggest that there were $354$ holes overall, i.e. the mechanism was a lunar calendar.\n",
    "\n",
    "### Project Objective\n",
    "\n",
    "In this project we aim to use an X-ray image of the calendar ring to then infer on the number of holes present in the comple ring, through Bayesian inference with Hamiltonian Monte Carlo. \n"
   ]
  },
  {
   "cell_type": "code",
   "execution_count": 5,
   "metadata": {},
   "outputs": [],
   "source": [
    "# Importing required packages\n",
    "import pandas as pd \n",
    "import matplotlib.pyplot as plt\n",
    "import numpy as np"
   ]
  },
  {
   "cell_type": "markdown",
   "metadata": {},
   "source": [
    "### Visualising Data"
   ]
  },
  {
   "cell_type": "code",
   "execution_count": 4,
   "metadata": {},
   "outputs": [
    {
     "data": {
      "text/html": [
       "<div>\n",
       "<style scoped>\n",
       "    .dataframe tbody tr th:only-of-type {\n",
       "        vertical-align: middle;\n",
       "    }\n",
       "\n",
       "    .dataframe tbody tr th {\n",
       "        vertical-align: top;\n",
       "    }\n",
       "\n",
       "    .dataframe thead th {\n",
       "        text-align: right;\n",
       "    }\n",
       "</style>\n",
       "<table border=\"1\" class=\"dataframe\">\n",
       "  <thead>\n",
       "    <tr style=\"text-align: right;\">\n",
       "      <th></th>\n",
       "      <th>Section ID</th>\n",
       "      <th>Hole</th>\n",
       "      <th>Inter-hole Distance</th>\n",
       "      <th>Mean(X)</th>\n",
       "      <th>Mean(Y)</th>\n",
       "    </tr>\n",
       "  </thead>\n",
       "  <tbody>\n",
       "    <tr>\n",
       "      <th>0</th>\n",
       "      <td>0</td>\n",
       "      <td>1</td>\n",
       "      <td>NaN</td>\n",
       "      <td>15.59931</td>\n",
       "      <td>92.59653</td>\n",
       "    </tr>\n",
       "    <tr>\n",
       "      <th>1</th>\n",
       "      <td>1</td>\n",
       "      <td>2</td>\n",
       "      <td>NaN</td>\n",
       "      <td>16.44167</td>\n",
       "      <td>91.50069</td>\n",
       "    </tr>\n",
       "    <tr>\n",
       "      <th>2</th>\n",
       "      <td>1</td>\n",
       "      <td>3</td>\n",
       "      <td>1.440694</td>\n",
       "      <td>17.30764</td>\n",
       "      <td>90.34931</td>\n",
       "    </tr>\n",
       "    <tr>\n",
       "      <th>3</th>\n",
       "      <td>1</td>\n",
       "      <td>4</td>\n",
       "      <td>1.456973</td>\n",
       "      <td>18.15278</td>\n",
       "      <td>89.16250</td>\n",
       "    </tr>\n",
       "    <tr>\n",
       "      <th>4</th>\n",
       "      <td>1</td>\n",
       "      <td>5</td>\n",
       "      <td>1.299821</td>\n",
       "      <td>18.96528</td>\n",
       "      <td>88.14792</td>\n",
       "    </tr>\n",
       "    <tr>\n",
       "      <th>...</th>\n",
       "      <td>...</td>\n",
       "      <td>...</td>\n",
       "      <td>...</td>\n",
       "      <td>...</td>\n",
       "      <td>...</td>\n",
       "    </tr>\n",
       "    <tr>\n",
       "      <th>76</th>\n",
       "      <td>7</td>\n",
       "      <td>77</td>\n",
       "      <td>1.259985</td>\n",
       "      <td>108.69444</td>\n",
       "      <td>63.42778</td>\n",
       "    </tr>\n",
       "    <tr>\n",
       "      <th>77</th>\n",
       "      <td>7</td>\n",
       "      <td>78</td>\n",
       "      <td>1.430105</td>\n",
       "      <td>110.05486</td>\n",
       "      <td>63.86875</td>\n",
       "    </tr>\n",
       "    <tr>\n",
       "      <th>78</th>\n",
       "      <td>7</td>\n",
       "      <td>79</td>\n",
       "      <td>1.179606</td>\n",
       "      <td>111.14583</td>\n",
       "      <td>64.31736</td>\n",
       "    </tr>\n",
       "    <tr>\n",
       "      <th>79</th>\n",
       "      <td>7</td>\n",
       "      <td>80</td>\n",
       "      <td>1.428043</td>\n",
       "      <td>112.48021</td>\n",
       "      <td>64.82604</td>\n",
       "    </tr>\n",
       "    <tr>\n",
       "      <th>80</th>\n",
       "      <td>7</td>\n",
       "      <td>81</td>\n",
       "      <td>1.259015</td>\n",
       "      <td>113.64028</td>\n",
       "      <td>65.31528</td>\n",
       "    </tr>\n",
       "  </tbody>\n",
       "</table>\n",
       "<p>81 rows × 5 columns</p>\n",
       "</div>"
      ],
      "text/plain": [
       "    Section ID  Hole  Inter-hole Distance    Mean(X)   Mean(Y)\n",
       "0            0     1                  NaN   15.59931  92.59653\n",
       "1            1     2                  NaN   16.44167  91.50069\n",
       "2            1     3             1.440694   17.30764  90.34931\n",
       "3            1     4             1.456973   18.15278  89.16250\n",
       "4            1     5             1.299821   18.96528  88.14792\n",
       "..         ...   ...                  ...        ...       ...\n",
       "76           7    77             1.259985  108.69444  63.42778\n",
       "77           7    78             1.430105  110.05486  63.86875\n",
       "78           7    79             1.179606  111.14583  64.31736\n",
       "79           7    80             1.428043  112.48021  64.82604\n",
       "80           7    81             1.259015  113.64028  65.31528\n",
       "\n",
       "[81 rows x 5 columns]"
      ]
     },
     "execution_count": 4,
     "metadata": {},
     "output_type": "execute_result"
    }
   ],
   "source": [
    "# Importing data on Antikythera Mechanism (AM) as data_AM\n",
    "data_AM = pd.read_csv(\"data/1-Fragment_C_Hole_Measurements.csv\")\n",
    "\n",
    "# Printing data\n",
    "data_AM  "
   ]
  },
  {
   "cell_type": "markdown",
   "metadata": {},
   "source": [
    "As part of the first task, we want to make a plot of the measured holes $d_i \\in \\mathbb{R}^2$ in the $x$-$y$ plane, where $i$ labels the holes, to indicate which holes are in each fractured section of the ring. "
   ]
  },
  {
   "cell_type": "code",
   "execution_count": null,
   "metadata": {},
   "outputs": [
    {
     "name": "stdout",
     "output_type": "stream",
     "text": [
      "Maximum value in Section ID: 7\n"
     ]
    }
   ],
   "source": [
    "# Separating each hole based on their IDs\n",
    "\n",
    "# Checking what is the maximum value of the Section ID \n",
    "print('Maximum value in Section ID:',max(data_AM['Section ID']))\n",
    "\n",
    "# Max = 7, i.e. 8 sections\n"
   ]
  },
  {
   "cell_type": "markdown",
   "metadata": {},
   "source": [
    "As we can see the are eight different sections of the Antikythera, let us separate each hole based on each respective section."
   ]
  },
  {
   "cell_type": "code",
   "execution_count": null,
   "metadata": {},
   "outputs": [
    {
     "name": "stderr",
     "output_type": "stream",
     "text": [
      "/tmp/ipykernel_164464/1703438837.py:2: MatplotlibDeprecationWarning: The get_cmap function was deprecated in Matplotlib 3.7 and will be removed in 3.11. Use ``matplotlib.colormaps[name]`` or ``matplotlib.colormaps.get_cmap()`` or ``pyplot.get_cmap()`` instead.\n",
      "  colors = plt.cm.get_cmap(\"tab10\", len(data_AM[\"Section ID\"].unique()))\n"
     ]
    },
    {
     "data": {
      "image/png": "[encoded data removed]",
      "text/plain": [
       "<Figure size 900x600 with 1 Axes>"
      ]
     },
     "metadata": {},
     "output_type": "display_data"
    }
   ],
   "source": [
    "# Define colors using a colormap\n",
    "colors = plt.cm.get_cmap(\"tab10\", len(data_AM[\"Section ID\"].unique()))\n",
    "\n",
    "# Plot\n",
    "plt.figure(figsize=(9, 6))\n",
    "\n",
    "# Loop through each section and plot automatically\n",
    "# Selecting different region based on Section ID\n",
    "for i, (section, data) in enumerate(data_AM.groupby(\"Section ID\")):\n",
    "    plt.scatter(data[\"Mean(X)\"], data[\"Mean(Y)\"], s=20, color=colors(i), label=f\"Section ID = {section}\")\n",
    "\n",
    "# Add labels and title\n",
    "plt.xlabel('Mean(X)')\n",
    "plt.ylabel('Mean(Y)')\n",
    "plt.title('Visualisation of Holes Location')\n",
    "\n",
    "# Invert y-axis for better visualization (resemble ring shape)\n",
    "plt.gca().invert_yaxis()\n",
    "\n",
    "# Add legend and adjust layout\n",
    "plt.legend()\n",
    "plt.tight_layout()\n",
    "\n",
    "# Show plot\n",
    "plt.show()"
   ]
  }
 ],
 "metadata": {
  "kernelspec": {
   "display_name": "s2_venv",
   "language": "python",
   "name": "python3"
  },
  "language_info": {
   "codemirror_mode": {
    "name": "ipython",
    "version": 3
   },
   "file_extension": ".py",
   "mimetype": "text/x-python",
   "name": "python",
   "nbconvert_exporter": "python",
   "pygments_lexer": "ipython3",
   "version": "3.12.3"
  }
 },
 "nbformat": 4,
 "nbformat_minor": 2
}
