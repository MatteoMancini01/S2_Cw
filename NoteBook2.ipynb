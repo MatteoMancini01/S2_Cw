{
 "cells": [
  {
   "cell_type": "markdown",
   "metadata": {},
   "source": [
    "# Attempt to convert code to jax"
   ]
  },
  {
   "cell_type": "code",
   "execution_count": 1,
   "metadata": {},
   "outputs": [
    {
     "name": "stderr",
     "output_type": "stream",
     "text": [
      "/root/Document/Term2/S2/S2_Cw/s2_venv/lib/python3.12/site-packages/tqdm/auto.py:21: TqdmWarning: IProgress not found. Please update jupyter and ipywidgets. See https://ipywidgets.readthedocs.io/en/stable/user_install.html\n",
      "  from .autonotebook import tqdm as notebook_tqdm\n"
     ]
    }
   ],
   "source": [
    "# Importing required packages\n",
    "import pandas as pd \n",
    "import matplotlib.pyplot as plt\n",
    "import numpy as np\n",
    "import numpyro\n",
    "import jax.numpy as jnp\n",
    "from jax import grad, jit, vmap\n",
    "import iminuit \n",
    "import math\n",
    "import jax\n",
    "from src.model import*\n",
    "from src.originial_model import*\n",
    "from dynesty import NestedSampler\n",
    "from src.model_mle import*"
   ]
  },
  {
   "cell_type": "code",
   "execution_count": 2,
   "metadata": {},
   "outputs": [
    {
     "data": {
      "text/html": [
       "<div>\n",
       "<style scoped>\n",
       "    .dataframe tbody tr th:only-of-type {\n",
       "        vertical-align: middle;\n",
       "    }\n",
       "\n",
       "    .dataframe tbody tr th {\n",
       "        vertical-align: top;\n",
       "    }\n",
       "\n",
       "    .dataframe thead th {\n",
       "        text-align: right;\n",
       "    }\n",
       "</style>\n",
       "<table border=\"1\" class=\"dataframe\">\n",
       "  <thead>\n",
       "    <tr style=\"text-align: right;\">\n",
       "      <th></th>\n",
       "      <th>Section ID</th>\n",
       "      <th>Hole</th>\n",
       "      <th>Inter-hole Distance</th>\n",
       "      <th>Mean(X)</th>\n",
       "      <th>Mean(Y)</th>\n",
       "    </tr>\n",
       "  </thead>\n",
       "  <tbody>\n",
       "    <tr>\n",
       "      <th>0</th>\n",
       "      <td>0</td>\n",
       "      <td>1</td>\n",
       "      <td>NaN</td>\n",
       "      <td>15.59931</td>\n",
       "      <td>92.59653</td>\n",
       "    </tr>\n",
       "    <tr>\n",
       "      <th>1</th>\n",
       "      <td>1</td>\n",
       "      <td>2</td>\n",
       "      <td>NaN</td>\n",
       "      <td>16.44167</td>\n",
       "      <td>91.50069</td>\n",
       "    </tr>\n",
       "    <tr>\n",
       "      <th>2</th>\n",
       "      <td>1</td>\n",
       "      <td>3</td>\n",
       "      <td>1.440694</td>\n",
       "      <td>17.30764</td>\n",
       "      <td>90.34931</td>\n",
       "    </tr>\n",
       "    <tr>\n",
       "      <th>3</th>\n",
       "      <td>1</td>\n",
       "      <td>4</td>\n",
       "      <td>1.456973</td>\n",
       "      <td>18.15278</td>\n",
       "      <td>89.16250</td>\n",
       "    </tr>\n",
       "    <tr>\n",
       "      <th>4</th>\n",
       "      <td>1</td>\n",
       "      <td>5</td>\n",
       "      <td>1.299821</td>\n",
       "      <td>18.96528</td>\n",
       "      <td>88.14792</td>\n",
       "    </tr>\n",
       "    <tr>\n",
       "      <th>...</th>\n",
       "      <td>...</td>\n",
       "      <td>...</td>\n",
       "      <td>...</td>\n",
       "      <td>...</td>\n",
       "      <td>...</td>\n",
       "    </tr>\n",
       "    <tr>\n",
       "      <th>76</th>\n",
       "      <td>7</td>\n",
       "      <td>77</td>\n",
       "      <td>1.259985</td>\n",
       "      <td>108.69444</td>\n",
       "      <td>63.42778</td>\n",
       "    </tr>\n",
       "    <tr>\n",
       "      <th>77</th>\n",
       "      <td>7</td>\n",
       "      <td>78</td>\n",
       "      <td>1.430105</td>\n",
       "      <td>110.05486</td>\n",
       "      <td>63.86875</td>\n",
       "    </tr>\n",
       "    <tr>\n",
       "      <th>78</th>\n",
       "      <td>7</td>\n",
       "      <td>79</td>\n",
       "      <td>1.179606</td>\n",
       "      <td>111.14583</td>\n",
       "      <td>64.31736</td>\n",
       "    </tr>\n",
       "    <tr>\n",
       "      <th>79</th>\n",
       "      <td>7</td>\n",
       "      <td>80</td>\n",
       "      <td>1.428043</td>\n",
       "      <td>112.48021</td>\n",
       "      <td>64.82604</td>\n",
       "    </tr>\n",
       "    <tr>\n",
       "      <th>80</th>\n",
       "      <td>7</td>\n",
       "      <td>81</td>\n",
       "      <td>1.259015</td>\n",
       "      <td>113.64028</td>\n",
       "      <td>65.31528</td>\n",
       "    </tr>\n",
       "  </tbody>\n",
       "</table>\n",
       "<p>81 rows × 5 columns</p>\n",
       "</div>"
      ],
      "text/plain": [
       "    Section ID  Hole  Inter-hole Distance    Mean(X)   Mean(Y)\n",
       "0            0     1                  NaN   15.59931  92.59653\n",
       "1            1     2                  NaN   16.44167  91.50069\n",
       "2            1     3             1.440694   17.30764  90.34931\n",
       "3            1     4             1.456973   18.15278  89.16250\n",
       "4            1     5             1.299821   18.96528  88.14792\n",
       "..         ...   ...                  ...        ...       ...\n",
       "76           7    77             1.259985  108.69444  63.42778\n",
       "77           7    78             1.430105  110.05486  63.86875\n",
       "78           7    79             1.179606  111.14583  64.31736\n",
       "79           7    80             1.428043  112.48021  64.82604\n",
       "80           7    81             1.259015  113.64028  65.31528\n",
       "\n",
       "[81 rows x 5 columns]"
      ]
     },
     "execution_count": 2,
     "metadata": {},
     "output_type": "execute_result"
    }
   ],
   "source": [
    "# Importing data on Antikythera Mechanism (AM) as data_AM\n",
    "data_AM = pd.read_csv(\"data/1-Fragment_C_Hole_Measurements.csv\")\n",
    "\n",
    "# Printing data\n",
    "data_AM  "
   ]
  },
  {
   "cell_type": "code",
   "execution_count": 3,
   "metadata": {},
   "outputs": [
    {
     "data": {
      "text/plain": [
       "(79, 5)"
      ]
     },
     "execution_count": 3,
     "metadata": {},
     "output_type": "execute_result"
    }
   ],
   "source": [
    "sub_data = data_AM[~data_AM['Section ID'].isin([0,4])] # removing sections 0 and 4\n",
    "sub_data.shape # Quick check"
   ]
  },
  {
   "cell_type": "code",
   "execution_count": 7,
   "metadata": {},
   "outputs": [
    {
     "data": {
      "text/html": [
       "<div>\n",
       "<style scoped>\n",
       "    .dataframe tbody tr th:only-of-type {\n",
       "        vertical-align: middle;\n",
       "    }\n",
       "\n",
       "    .dataframe tbody tr th {\n",
       "        vertical-align: top;\n",
       "    }\n",
       "\n",
       "    .dataframe thead th {\n",
       "        text-align: right;\n",
       "    }\n",
       "</style>\n",
       "<table border=\"1\" class=\"dataframe\">\n",
       "  <thead>\n",
       "    <tr style=\"text-align: right;\">\n",
       "      <th></th>\n",
       "      <th>Section ID</th>\n",
       "      <th>Hole</th>\n",
       "      <th>Inter-hole Distance</th>\n",
       "      <th>Mean(X)</th>\n",
       "      <th>Mean(Y)</th>\n",
       "    </tr>\n",
       "  </thead>\n",
       "  <tbody>\n",
       "    <tr>\n",
       "      <th>1</th>\n",
       "      <td>1</td>\n",
       "      <td>2</td>\n",
       "      <td>NaN</td>\n",
       "      <td>16.44167</td>\n",
       "      <td>91.50069</td>\n",
       "    </tr>\n",
       "    <tr>\n",
       "      <th>2</th>\n",
       "      <td>1</td>\n",
       "      <td>3</td>\n",
       "      <td>1.440694</td>\n",
       "      <td>17.30764</td>\n",
       "      <td>90.34931</td>\n",
       "    </tr>\n",
       "    <tr>\n",
       "      <th>3</th>\n",
       "      <td>1</td>\n",
       "      <td>4</td>\n",
       "      <td>1.456973</td>\n",
       "      <td>18.15278</td>\n",
       "      <td>89.16250</td>\n",
       "    </tr>\n",
       "    <tr>\n",
       "      <th>4</th>\n",
       "      <td>1</td>\n",
       "      <td>5</td>\n",
       "      <td>1.299821</td>\n",
       "      <td>18.96528</td>\n",
       "      <td>88.14792</td>\n",
       "    </tr>\n",
       "    <tr>\n",
       "      <th>5</th>\n",
       "      <td>1</td>\n",
       "      <td>6</td>\n",
       "      <td>1.372859</td>\n",
       "      <td>19.81389</td>\n",
       "      <td>87.06875</td>\n",
       "    </tr>\n",
       "    <tr>\n",
       "      <th>...</th>\n",
       "      <td>...</td>\n",
       "      <td>...</td>\n",
       "      <td>...</td>\n",
       "      <td>...</td>\n",
       "      <td>...</td>\n",
       "    </tr>\n",
       "    <tr>\n",
       "      <th>76</th>\n",
       "      <td>7</td>\n",
       "      <td>77</td>\n",
       "      <td>1.259985</td>\n",
       "      <td>108.69444</td>\n",
       "      <td>63.42778</td>\n",
       "    </tr>\n",
       "    <tr>\n",
       "      <th>77</th>\n",
       "      <td>7</td>\n",
       "      <td>78</td>\n",
       "      <td>1.430105</td>\n",
       "      <td>110.05486</td>\n",
       "      <td>63.86875</td>\n",
       "    </tr>\n",
       "    <tr>\n",
       "      <th>78</th>\n",
       "      <td>7</td>\n",
       "      <td>79</td>\n",
       "      <td>1.179606</td>\n",
       "      <td>111.14583</td>\n",
       "      <td>64.31736</td>\n",
       "    </tr>\n",
       "    <tr>\n",
       "      <th>79</th>\n",
       "      <td>7</td>\n",
       "      <td>80</td>\n",
       "      <td>1.428043</td>\n",
       "      <td>112.48021</td>\n",
       "      <td>64.82604</td>\n",
       "    </tr>\n",
       "    <tr>\n",
       "      <th>80</th>\n",
       "      <td>7</td>\n",
       "      <td>81</td>\n",
       "      <td>1.259015</td>\n",
       "      <td>113.64028</td>\n",
       "      <td>65.31528</td>\n",
       "    </tr>\n",
       "  </tbody>\n",
       "</table>\n",
       "<p>79 rows × 5 columns</p>\n",
       "</div>"
      ],
      "text/plain": [
       "    Section ID  Hole  Inter-hole Distance    Mean(X)   Mean(Y)\n",
       "1            1     2                  NaN   16.44167  91.50069\n",
       "2            1     3             1.440694   17.30764  90.34931\n",
       "3            1     4             1.456973   18.15278  89.16250\n",
       "4            1     5             1.299821   18.96528  88.14792\n",
       "5            1     6             1.372859   19.81389  87.06875\n",
       "..         ...   ...                  ...        ...       ...\n",
       "76           7    77             1.259985  108.69444  63.42778\n",
       "77           7    78             1.430105  110.05486  63.86875\n",
       "78           7    79             1.179606  111.14583  64.31736\n",
       "79           7    80             1.428043  112.48021  64.82604\n",
       "80           7    81             1.259015  113.64028  65.31528\n",
       "\n",
       "[79 rows x 5 columns]"
      ]
     },
     "execution_count": 7,
     "metadata": {},
     "output_type": "execute_result"
    }
   ],
   "source": [
    "sub_data"
   ]
  },
  {
   "cell_type": "code",
   "execution_count": 21,
   "metadata": {},
   "outputs": [
    {
     "name": "stdout",
     "output_type": "stream",
     "text": [
      "Section ID before adaptation to new format:\n",
      "[1 1 1 1 1 1 1 1 1 1 1 1 1 1 1 1 1 1 1 1 1 1 2 2 2 2 2 2 2 2 2 3 3 3 3 3 3\n",
      " 3 3 3 3 3 3 3 3 3 3 3 3 3 3 3 3 3 3 3 3 3 3 3 3 3 3 3 3 3 3 3 5 5 5 6 6 7\n",
      " 7 7 7 7 7]\n",
      "\n",
      "Section ID adapted to new format:\n",
      "[0 0 0 0 0 0 0 0 0 0 0 0 0 0 0 0 0 0 0 0 0 0 1 1 1 1 1 1 1 1 1 2 2 2 2 2 2\n",
      " 2 2 2 2 2 2 2 2 2 2 2 2 2 2 2 2 2 2 2 2 2 2 2 2 2 2 2 2 2 2 2 3 3 3 4 4 5\n",
      " 5 5 5 5 5]\n"
     ]
    }
   ],
   "source": [
    "# Converting Section ID into array format using .to_numpy()\n",
    "sec_id_sub = sub_data['Section ID'].to_numpy()\n",
    "print('Section ID before adaptation to new format:')\n",
    "print(sec_id_sub)\n",
    "\n",
    "print('')\n",
    "\n",
    "'''  \n",
    "For our likelihood models we have labeled sections from 0 to 5, but the observed data is \n",
    "registered with section id from 1 to 7, exluding sections 0 and 4. \n",
    "\n",
    "The objective is to relabel the Section ID from 0 to 5, by subtracting 1 when elements in Section ID\n",
    "are less than 4, and subtract 2 otherwise.\n",
    "\n",
    "'''\n",
    "\n",
    "sec_mod = jnp.array([x-1 if x < 4 else x - 2 for x in sec_id_sub]) \n",
    "print('Section ID adapted to new format:')\n",
    "print(sec_mod)"
   ]
  },
  {
   "cell_type": "code",
   "execution_count": 36,
   "metadata": {},
   "outputs": [],
   "source": [
    "hole_d, x_d, y_d = jnp.array(sub_data['Hole'].to_numpy()), jnp.array(sub_data['Mean(X)'].to_numpy()), jnp.array(sub_data['Mean(Y)'].to_numpy())"
   ]
  },
  {
   "cell_type": "markdown",
   "metadata": {},
   "source": [
    "Original code"
   ]
  },
  {
   "cell_type": "code",
   "execution_count": null,
   "metadata": {},
   "outputs": [],
   "source": [
    "def rad_tang_model(sections_ids, hole_ids, x_obs = None, y_obs = None):\n",
    "\n",
    "    # Defining our uniform priors\n",
    "    N = numpyro.sample('N', numpyro.distributions.Uniform(340,370)) \n",
    "    r = numpyro.sample('r', numpyro.distributions.Uniform(74, 80))\n",
    "    \n",
    "    # Errors \n",
    "    sigma_t = numpyro.sample('sigma_t', numpyro.distributions.LogUniform(0.01,0.5))\n",
    "    sigma_r = numpyro.sample('sigma_r', numpyro.distributions.LogUniform(0.01,0.5))\n",
    "\n",
    "    n_parameters = len(np.unique(sections_ids))\n",
    "\n",
    "    with numpyro.plate('transform', n_parameters):\n",
    "        x_centre = numpyro.sample('x_centre', numpyro.distributions.Uniform(76,86))\n",
    "        y_centre = numpyro.sample('y_centre', numpyro.distributions.Uniform(130,140))\n",
    "        alpha_pred = numpyro.sample('alpha_pred', numpyro.distributions.Uniform(-3, -2))\n",
    "\n",
    "    # Defining model\n",
    "    phase = 2*jnp.pi*(hole_ids - 1)/N  + alpha_pred[sections_ids]\n",
    "\n",
    "    x_pred = r*jnp.cos(phase) + x_centre[sections_ids]\n",
    "    y_pred = r*jnp.sin(phase) + y_centre[sections_ids]\n",
    "\n",
    "    # Defining covariance matrix (Cartesian)\n",
    "    Sigma = jnp.array(\n",
    "        [jnp.array([[jnp.cos(phi), jnp.sin(phi)],[jnp.sin(phi), -jnp.cos(phi)]]).T @ jnp.array([[sigma_r**2, 0],[0, sigma_t**2]]) @ jnp.array([[jnp.cos(phi), jnp.sin(phi)],[jnp.sin(phi), -jnp.cos(phi)]]) for phi in phase]\n",
    "    )\n",
    "\n",
    "    with numpyro.plate('data', len(hole_ids)):\n",
    "        numpyro.sample('obs', numpyro.distributions.MultivariateNormal(loc=jnp.vstack((x_pred, y_pred)).T, covariance_matrix=Sigma), obs = jnp.vstack((x_obs, y_obs)).T)\n",
    "\n",
    "\n",
    "    "
   ]
  },
  {
   "cell_type": "markdown",
   "metadata": {},
   "source": [
    "### HMC\n",
    "\n"
   ]
  },
  {
   "cell_type": "code",
   "execution_count": 9,
   "metadata": {},
   "outputs": [],
   "source": [
    "from numpyro.infer import NUTS, MCMC"
   ]
  },
  {
   "cell_type": "markdown",
   "metadata": {},
   "source": [
    "Radial-tangential Model"
   ]
  },
  {
   "cell_type": "code",
   "execution_count": 57,
   "metadata": {},
   "outputs": [
    {
     "name": "stderr",
     "output_type": "stream",
     "text": [
      "sample: 100%|██████████| 11000/11000 [11:38<00:00, 15.75it/s, 1023 steps of size 8.75e-03. acc. prob=0.95]\n"
     ]
    }
   ],
   "source": [
    "nuts_kernel = NUTS(rad_tang_model)\n",
    "\n",
    "mcmc_rt = MCMC(nuts_kernel, num_samples=10000, num_warmup=1000)\n",
    "rng_key = jax.random.key(0)\n",
    "mcmc_rt.run(rng_key, sec_mod, hole_d, x_obs = x_d, y_obs = y_d)\n",
    "\n",
    "posterior_samples_rt = mcmc_rt.get_samples()"
   ]
  },
  {
   "cell_type": "code",
   "execution_count": 59,
   "metadata": {},
   "outputs": [
    {
     "name": "stdout",
     "output_type": "stream",
     "text": [
      "\n",
      "                   mean       std    median      5.0%     95.0%     n_eff     r_hat\n",
      "            N    355.29      1.41    355.30    353.03    357.65   1776.64      1.00\n",
      "alpha_pred[0]     -2.54      0.00     -2.54     -2.55     -2.54   2674.42      1.00\n",
      "alpha_pred[1]     -2.54      0.00     -2.54     -2.55     -2.54   3788.59      1.00\n",
      "alpha_pred[2]     -2.54      0.00     -2.54     -2.55     -2.53   1805.27      1.00\n",
      "alpha_pred[3]     -2.56      0.02     -2.56     -2.59     -2.53   4759.64      1.00\n",
      "alpha_pred[4]     -2.55      0.03     -2.55     -2.60     -2.51   4766.33      1.00\n",
      "alpha_pred[5]     -2.58      0.01     -2.58     -2.59     -2.57   2862.68      1.00\n",
      "            r     77.34      0.28     77.35     76.90     77.83   1716.81      1.00\n",
      "      sigma_r      0.03      0.00      0.03      0.02      0.03   8015.67      1.00\n",
      "      sigma_t      0.13      0.01      0.13      0.11      0.15   9387.15      1.00\n",
      "  x_centre[0]     79.69      0.20     79.70     79.38     80.05   1814.61      1.00\n",
      "  x_centre[1]     79.91      0.23     79.91     79.54     80.27   3839.22      1.00\n",
      "  x_centre[2]     79.86      0.04     79.86     79.80     79.92   2957.55      1.00\n",
      "  x_centre[3]     81.42      1.09     81.42     79.59     83.13   5535.07      1.00\n",
      "  x_centre[4]     81.44      2.12     81.49     78.04     85.11   4860.59      1.00\n",
      "  x_centre[5]     83.22      0.39     83.22     82.60     83.88   6572.43      1.00\n",
      "  y_centre[0]    136.04      0.21    136.04    135.68    136.37   1728.55      1.00\n",
      "  y_centre[1]    135.72      0.27    135.73    135.31    136.19   1901.01      1.00\n",
      "  y_centre[2]    135.72      0.29    135.72    135.26    136.21   1716.74      1.00\n",
      "  y_centre[3]    136.10      0.41    136.11    135.42    136.74   2937.29      1.00\n",
      "  y_centre[4]    135.79      0.76    135.83    134.60    137.09   3996.13      1.00\n",
      "  y_centre[5]    136.43      0.30    136.43    135.94    136.92   2094.96      1.00\n",
      "\n",
      "Number of divergences: 0\n"
     ]
    }
   ],
   "source": [
    "mcmc_rt.print_summary()"
   ]
  },
  {
   "cell_type": "markdown",
   "metadata": {},
   "source": [
    "Collecting predicted information for plotting"
   ]
  },
  {
   "cell_type": "code",
   "execution_count": 60,
   "metadata": {},
   "outputs": [],
   "source": [
    "N_rt_pred = jnp.mean(posterior_samples_rt['N'])\n",
    "R_rt_pred = jnp.mean(posterior_samples_rt['r'])\n",
    "\n",
    "num_sections = 6  # Assuming 6 sections\n",
    "\n",
    "phases_opt_rt = jnp.mean(posterior_samples_rt[\"alpha_pred\"], axis=0)\n",
    "xcents_opt_rt = jnp.mean(posterior_samples_rt[\"x_centre\"], axis=0)\n",
    "ycents_opt_rt = jnp.mean(posterior_samples_rt[\"y_centre\"], axis=0)\n",
    "\n",
    "# Store all extracted parameters in a structured array\n",
    "optimised_params_rt = jnp.array([phases_opt_rt, xcents_opt_rt, ycents_opt_rt])"
   ]
  },
  {
   "cell_type": "markdown",
   "metadata": {},
   "source": [
    "Isotropic model"
   ]
  },
  {
   "cell_type": "code",
   "execution_count": 54,
   "metadata": {},
   "outputs": [],
   "source": [
    "def isotropic_model(sections_ids, hole_ids, x_obs = None, y_obs = None):\n",
    "\n",
    "    # Defining our uniform priors\n",
    "    N = numpyro.sample('N', numpyro.distributions.Uniform(340,370)) \n",
    "    r = numpyro.sample('r', numpyro.distributions.Uniform(74, 80))\n",
    "    \n",
    "    # Errors \n",
    "    sigma = numpyro.sample('sigma', numpyro.distributions.LogUniform(0.01, 1))\n",
    "\n",
    "    n_parameters = len(np.unique(sections_ids))\n",
    "\n",
    "    with numpyro.plate('transform', n_parameters):\n",
    "        x_centre = numpyro.sample('x_centre', numpyro.distributions.Uniform(76,86))\n",
    "        y_centre = numpyro.sample('y_centre', numpyro.distributions.Uniform(130,140))\n",
    "        alpha_pred = numpyro.sample('alpha_pred', numpyro.distributions.Uniform(-3, -2))\n",
    "\n",
    "    # Defining model\n",
    "    phase = 2*jnp.pi*(hole_ids - 1)/N  + alpha_pred[sections_ids]\n",
    "\n",
    "    x_pred = r*jnp.cos(phase) + x_centre[sections_ids]\n",
    "    y_pred = r*jnp.sin(phase) + y_centre[sections_ids]\n",
    "\n",
    "    # Defining covariance matrix (Cartesian)\n",
    "    Sigma = jnp.array([jnp.array([[sigma**2, 0],[0, sigma**2]]) for _ in phase])\n",
    "\n",
    "    with numpyro.plate('data', len(hole_ids)):\n",
    "        numpyro.sample('obs', numpyro.distributions.MultivariateNormal(loc=jnp.vstack((x_pred, y_pred)).T, covariance_matrix=Sigma), obs = jnp.vstack((x_obs, y_obs)).T)"
   ]
  },
  {
   "cell_type": "code",
   "execution_count": 58,
   "metadata": {},
   "outputs": [
    {
     "name": "stderr",
     "output_type": "stream",
     "text": [
      "sample: 100%|██████████| 11000/11000 [03:54<00:00, 46.92it/s, 511 steps of size 9.25e-03. acc. prob=0.88] \n"
     ]
    }
   ],
   "source": [
    "nuts_kernel = NUTS(isotropic_model)\n",
    "\n",
    "mcmc_iso = MCMC(nuts_kernel, num_samples=10000, num_warmup=1000)\n",
    "rng_key_iso = jax.random.key(0)\n",
    "mcmc_iso.run(rng_key_iso, sec_mod, hole_d, x_obs = x_d, y_obs = y_d)\n",
    "\n",
    "posterior_samples_iso = mcmc_iso.get_samples()"
   ]
  },
  {
   "cell_type": "code",
   "execution_count": 61,
   "metadata": {},
   "outputs": [
    {
     "name": "stdout",
     "output_type": "stream",
     "text": [
      "\n",
      "                   mean       std    median      5.0%     95.0%     n_eff     r_hat\n",
      "            N    355.60      4.30    355.64    348.56    362.66   1632.51      1.00\n",
      "alpha_pred[0]     -2.54      0.00     -2.54     -2.55     -2.54   2534.39      1.00\n",
      "alpha_pred[1]     -2.54      0.01     -2.54     -2.56     -2.52   3651.13      1.00\n",
      "alpha_pred[2]     -2.54      0.01     -2.54     -2.56     -2.52   1672.33      1.00\n",
      "alpha_pred[3]     -2.56      0.04     -2.56     -2.61     -2.49   4263.12      1.00\n",
      "alpha_pred[4]     -2.55      0.04     -2.55     -2.61     -2.48   3730.15      1.00\n",
      "alpha_pred[5]     -2.58      0.02     -2.58     -2.62     -2.54   2466.88      1.00\n",
      "            r     77.42      0.93     77.43     75.86     78.91   1629.20      1.00\n",
      "        sigma      0.09      0.01      0.09      0.09      0.10   8310.14      1.00\n",
      "  x_centre[0]     79.74      0.66     79.73     78.69     80.86   1717.53      1.00\n",
      "  x_centre[1]     79.95      0.74     79.94     78.80     81.19   3277.33      1.00\n",
      "  x_centre[2]     79.87      0.12     79.87     79.68     80.05   2680.45      1.00\n",
      "  x_centre[3]     81.24      2.56     81.32     77.49     85.81   5360.78      1.00\n",
      "  x_centre[4]     81.03      2.78     81.03     77.18     85.97   4335.56      1.00\n",
      "  x_centre[5]     83.18      1.22     83.20     81.32     85.38   5090.35      1.00\n",
      "  y_centre[0]    136.12      0.68    136.13    134.99    137.23   1649.10      1.00\n",
      "  y_centre[1]    135.78      0.88    135.79    134.33    137.23   1833.25      1.00\n",
      "  y_centre[2]    135.78      0.94    135.79    134.20    137.29   1631.44      1.00\n",
      "  y_centre[3]    136.09      1.17    136.09    134.11    137.94   2195.81      1.00\n",
      "  y_centre[4]    135.71      1.35    135.71    133.48    137.92   2361.33      1.00\n",
      "  y_centre[5]    136.48      0.99    136.48    134.85    138.11   1986.48      1.00\n",
      "\n",
      "Number of divergences: 0\n"
     ]
    }
   ],
   "source": [
    "mcmc_iso.print_summary()"
   ]
  },
  {
   "cell_type": "markdown",
   "metadata": {},
   "source": [
    "Collecting predicted information for plotting"
   ]
  },
  {
   "cell_type": "code",
   "execution_count": 62,
   "metadata": {},
   "outputs": [],
   "source": [
    "N_is_pred = jnp.mean(posterior_samples_iso['N'])\n",
    "R_is_pred = jnp.mean(posterior_samples_iso['r'])\n",
    "\n",
    "num_sections = 6  # Assuming 6 sections\n",
    "\n",
    "phases_opt_iso = jnp.mean(posterior_samples_iso[\"alpha_pred\"], axis=0)\n",
    "xcents_opt_iso = jnp.mean(posterior_samples_iso[\"x_centre\"], axis=0)\n",
    "ycents_opt_iso = jnp.mean(posterior_samples_iso[\"y_centre\"], axis=0)\n",
    "\n",
    "# Store all extracted parameters in a structured array\n",
    "optimised_params_iso = jnp.array([phases_opt_iso, xcents_opt_iso, ycents_opt_iso])"
   ]
  },
  {
   "cell_type": "code",
   "execution_count": null,
   "metadata": {},
   "outputs": [],
   "source": [
    "def hole_prediction(N, R, optim_parm):\n",
    "\n",
    "    '''  \n",
    "    Function to compute prediction of hole location on the xy-plane.\n",
    "\n",
    "    Parameters:\n",
    "    \n",
    "    N : Int\n",
    "        Number of predicted holes\n",
    "    \n",
    "    R : Int\n",
    "        Predicted radius of the original circle\n",
    "\n",
    "    optim_parm : \n",
    "        Predicted parameters (x_0j, y_0j, alpha_j)\n",
    "\n",
    "    Returns:\n",
    "        np.array([x_pred, y_pred]), array of predicted x and y values.\n",
    "\n",
    "    '''\n",
    "\n",
    "    x_pred = [] # x_ij\n",
    "    y_pred = [] # y_ij\n",
    "    \n",
    "    # 79 measured holes\n",
    "    for i in range(0, 79):\n",
    "\n",
    "        phi_val = 2*jnp.pi*(i)/N + optim_parm[0][sec_mod[i]] # Computing phi_ij values\n",
    "\n",
    "        x_val = R*jnp.cos(phi_val) + optim_parm[1][sec_mod[i]] # Computing x_ij values\n",
    "        y_val = R*jnp.sin(phi_val) + optim_parm[2][sec_mod[i]] # Computing x_ij values\n",
    "\n",
    "        x_pred.append(x_val)\n",
    "        y_pred.append(y_val)\n",
    "    \n",
    "    return jnp.array([x_pred, y_pred])"
   ]
  },
  {
   "cell_type": "code",
   "execution_count": null,
   "metadata": {},
   "outputs": [],
   "source": []
  },
  {
   "cell_type": "markdown",
   "metadata": {},
   "source": [
    "<b>Computing the predicted hole location for each model</b>"
   ]
  },
  {
   "cell_type": "code",
   "execution_count": 64,
   "metadata": {},
   "outputs": [],
   "source": [
    "# Computing hole predicted location using predicted parameters from Iminuit for:\n",
    "\n",
    "# Radial-Tangential Model:\n",
    "predicted_hole_loc_rt = hole_prediction(N_rt_pred, R_rt_pred, optimised_params_rt)\n",
    "\n",
    "# Isotropic Model:\n",
    "predicted_hole_loc_is = hole_prediction(N_is_pred, R_is_pred, optimised_params_iso)"
   ]
  },
  {
   "cell_type": "code",
   "execution_count": 65,
   "metadata": {},
   "outputs": [
    {
     "data": {
      "text/html": [
       "<div>\n",
       "<style scoped>\n",
       "    .dataframe tbody tr th:only-of-type {\n",
       "        vertical-align: middle;\n",
       "    }\n",
       "\n",
       "    .dataframe tbody tr th {\n",
       "        vertical-align: top;\n",
       "    }\n",
       "\n",
       "    .dataframe thead th {\n",
       "        text-align: right;\n",
       "    }\n",
       "</style>\n",
       "<table border=\"1\" class=\"dataframe\">\n",
       "  <thead>\n",
       "    <tr style=\"text-align: right;\">\n",
       "      <th></th>\n",
       "      <th>Section ID</th>\n",
       "      <th>Hole</th>\n",
       "      <th>Mean(X)</th>\n",
       "      <th>Mean(Y)</th>\n",
       "    </tr>\n",
       "  </thead>\n",
       "  <tbody>\n",
       "    <tr>\n",
       "      <th>0</th>\n",
       "      <td>1</td>\n",
       "      <td>2</td>\n",
       "      <td>15.785290</td>\n",
       "      <td>92.473389</td>\n",
       "    </tr>\n",
       "    <tr>\n",
       "      <th>1</th>\n",
       "      <td>1</td>\n",
       "      <td>3</td>\n",
       "      <td>16.565670</td>\n",
       "      <td>91.350021</td>\n",
       "    </tr>\n",
       "    <tr>\n",
       "      <th>2</th>\n",
       "      <td>1</td>\n",
       "      <td>4</td>\n",
       "      <td>17.365780</td>\n",
       "      <td>90.240646</td>\n",
       "    </tr>\n",
       "    <tr>\n",
       "      <th>3</th>\n",
       "      <td>1</td>\n",
       "      <td>5</td>\n",
       "      <td>18.185390</td>\n",
       "      <td>89.145584</td>\n",
       "    </tr>\n",
       "    <tr>\n",
       "      <th>4</th>\n",
       "      <td>1</td>\n",
       "      <td>6</td>\n",
       "      <td>19.024231</td>\n",
       "      <td>88.065201</td>\n",
       "    </tr>\n",
       "    <tr>\n",
       "      <th>...</th>\n",
       "      <td>...</td>\n",
       "      <td>...</td>\n",
       "      <td>...</td>\n",
       "      <td>...</td>\n",
       "    </tr>\n",
       "    <tr>\n",
       "      <th>74</th>\n",
       "      <td>7</td>\n",
       "      <td>77</td>\n",
       "      <td>106.071640</td>\n",
       "      <td>62.535492</td>\n",
       "    </tr>\n",
       "    <tr>\n",
       "      <th>75</th>\n",
       "      <td>7</td>\n",
       "      <td>78</td>\n",
       "      <td>107.374748</td>\n",
       "      <td>62.951195</td>\n",
       "    </tr>\n",
       "    <tr>\n",
       "      <th>76</th>\n",
       "      <td>7</td>\n",
       "      <td>79</td>\n",
       "      <td>108.670319</td>\n",
       "      <td>63.389877</td>\n",
       "    </tr>\n",
       "    <tr>\n",
       "      <th>77</th>\n",
       "      <td>7</td>\n",
       "      <td>80</td>\n",
       "      <td>109.957901</td>\n",
       "      <td>63.851395</td>\n",
       "    </tr>\n",
       "    <tr>\n",
       "      <th>78</th>\n",
       "      <td>7</td>\n",
       "      <td>81</td>\n",
       "      <td>111.237129</td>\n",
       "      <td>64.335617</td>\n",
       "    </tr>\n",
       "  </tbody>\n",
       "</table>\n",
       "<p>79 rows × 4 columns</p>\n",
       "</div>"
      ],
      "text/plain": [
       "    Section ID  Hole     Mean(X)    Mean(Y)\n",
       "0            1     2   15.785290  92.473389\n",
       "1            1     3   16.565670  91.350021\n",
       "2            1     4   17.365780  90.240646\n",
       "3            1     5   18.185390  89.145584\n",
       "4            1     6   19.024231  88.065201\n",
       "..         ...   ...         ...        ...\n",
       "74           7    77  106.071640  62.535492\n",
       "75           7    78  107.374748  62.951195\n",
       "76           7    79  108.670319  63.389877\n",
       "77           7    80  109.957901  63.851395\n",
       "78           7    81  111.237129  64.335617\n",
       "\n",
       "[79 rows x 4 columns]"
      ]
     },
     "execution_count": 65,
     "metadata": {},
     "output_type": "execute_result"
    }
   ],
   "source": [
    "# Constructiong Data Frame for:\n",
    "\n",
    "# Radial-Tangential Model\n",
    "\n",
    "d_rt = {\n",
    "\n",
    "    'Section ID' : sub_data['Section ID'].to_numpy(),\n",
    "    'Hole' : sub_data['Hole'].to_numpy(),\n",
    "    'Mean(X)' : predicted_hole_loc_rt[0],\n",
    "    'Mean(Y)' : predicted_hole_loc_rt[1]\n",
    "}\n",
    "\n",
    "pred_data_rt_HMC = pd.DataFrame(d_rt)\n",
    "\n",
    "# Checking result\n",
    "pred_data_rt_HMC"
   ]
  },
  {
   "cell_type": "code",
   "execution_count": 66,
   "metadata": {},
   "outputs": [
    {
     "data": {
      "text/html": [
       "<div>\n",
       "<style scoped>\n",
       "    .dataframe tbody tr th:only-of-type {\n",
       "        vertical-align: middle;\n",
       "    }\n",
       "\n",
       "    .dataframe tbody tr th {\n",
       "        vertical-align: top;\n",
       "    }\n",
       "\n",
       "    .dataframe thead th {\n",
       "        text-align: right;\n",
       "    }\n",
       "</style>\n",
       "<table border=\"1\" class=\"dataframe\">\n",
       "  <thead>\n",
       "    <tr style=\"text-align: right;\">\n",
       "      <th></th>\n",
       "      <th>Section ID</th>\n",
       "      <th>Hole</th>\n",
       "      <th>Mean(X)</th>\n",
       "      <th>Mean(Y)</th>\n",
       "    </tr>\n",
       "  </thead>\n",
       "  <tbody>\n",
       "    <tr>\n",
       "      <th>0</th>\n",
       "      <td>1</td>\n",
       "      <td>2</td>\n",
       "      <td>15.787384</td>\n",
       "      <td>92.481262</td>\n",
       "    </tr>\n",
       "    <tr>\n",
       "      <th>1</th>\n",
       "      <td>1</td>\n",
       "      <td>3</td>\n",
       "      <td>16.568371</td>\n",
       "      <td>91.358231</td>\n",
       "    </tr>\n",
       "    <tr>\n",
       "      <th>2</th>\n",
       "      <td>1</td>\n",
       "      <td>4</td>\n",
       "      <td>17.369080</td>\n",
       "      <td>90.249176</td>\n",
       "    </tr>\n",
       "    <tr>\n",
       "      <th>3</th>\n",
       "      <td>1</td>\n",
       "      <td>5</td>\n",
       "      <td>18.189274</td>\n",
       "      <td>89.154419</td>\n",
       "    </tr>\n",
       "    <tr>\n",
       "      <th>4</th>\n",
       "      <td>1</td>\n",
       "      <td>6</td>\n",
       "      <td>19.028667</td>\n",
       "      <td>88.074333</td>\n",
       "    </tr>\n",
       "    <tr>\n",
       "      <th>...</th>\n",
       "      <td>...</td>\n",
       "      <td>...</td>\n",
       "      <td>...</td>\n",
       "      <td>...</td>\n",
       "    </tr>\n",
       "    <tr>\n",
       "      <th>74</th>\n",
       "      <td>7</td>\n",
       "      <td>77</td>\n",
       "      <td>106.063805</td>\n",
       "      <td>62.519173</td>\n",
       "    </tr>\n",
       "    <tr>\n",
       "      <th>75</th>\n",
       "      <td>7</td>\n",
       "      <td>78</td>\n",
       "      <td>107.366943</td>\n",
       "      <td>62.935120</td>\n",
       "    </tr>\n",
       "    <tr>\n",
       "      <th>76</th>\n",
       "      <td>7</td>\n",
       "      <td>79</td>\n",
       "      <td>108.662529</td>\n",
       "      <td>63.374023</td>\n",
       "    </tr>\n",
       "    <tr>\n",
       "      <th>77</th>\n",
       "      <td>7</td>\n",
       "      <td>80</td>\n",
       "      <td>109.950150</td>\n",
       "      <td>63.835747</td>\n",
       "    </tr>\n",
       "    <tr>\n",
       "      <th>78</th>\n",
       "      <td>7</td>\n",
       "      <td>81</td>\n",
       "      <td>111.229408</td>\n",
       "      <td>64.320145</td>\n",
       "    </tr>\n",
       "  </tbody>\n",
       "</table>\n",
       "<p>79 rows × 4 columns</p>\n",
       "</div>"
      ],
      "text/plain": [
       "    Section ID  Hole     Mean(X)    Mean(Y)\n",
       "0            1     2   15.787384  92.481262\n",
       "1            1     3   16.568371  91.358231\n",
       "2            1     4   17.369080  90.249176\n",
       "3            1     5   18.189274  89.154419\n",
       "4            1     6   19.028667  88.074333\n",
       "..         ...   ...         ...        ...\n",
       "74           7    77  106.063805  62.519173\n",
       "75           7    78  107.366943  62.935120\n",
       "76           7    79  108.662529  63.374023\n",
       "77           7    80  109.950150  63.835747\n",
       "78           7    81  111.229408  64.320145\n",
       "\n",
       "[79 rows x 4 columns]"
      ]
     },
     "execution_count": 66,
     "metadata": {},
     "output_type": "execute_result"
    }
   ],
   "source": [
    "# Radial-Tangential Model\n",
    "\n",
    "d_is = {\n",
    "\n",
    "    'Section ID' : sub_data['Section ID'].to_numpy(),\n",
    "    'Hole' : sub_data['Hole'].to_numpy(),\n",
    "    'Mean(X)' : predicted_hole_loc_is[0],\n",
    "    'Mean(Y)' : predicted_hole_loc_is[1]\n",
    "}\n",
    "\n",
    "pred_data_is_HMC = pd.DataFrame(d_is)\n",
    "\n",
    "# Checking result\n",
    "pred_data_is_HMC"
   ]
  },
  {
   "cell_type": "markdown",
   "metadata": {},
   "source": [
    "Plotting Radial-Tangential Model vs Observed Data (HMC)"
   ]
  },
  {
   "cell_type": "code",
   "execution_count": 67,
   "metadata": {},
   "outputs": [
    {
     "name": "stderr",
     "output_type": "stream",
     "text": [
      "/tmp/ipykernel_1025/1616940545.py:2: MatplotlibDeprecationWarning: The get_cmap function was deprecated in Matplotlib 3.7 and will be removed in 3.11. Use ``matplotlib.colormaps[name]`` or ``matplotlib.colormaps.get_cmap()`` or ``pyplot.get_cmap()`` instead.\n",
      "  colors = plt.cm.get_cmap(\"tab10\", len(sub_data[\"Section ID\"].unique()))\n"
     ]
    },
    {
     "data": {
      "image/png": "[encoded data removed]",
      "text/plain": [
       "<Figure size 900x600 with 1 Axes>"
      ]
     },
     "metadata": {},
     "output_type": "display_data"
    }
   ],
   "source": [
    "# Define colors using a colormap\n",
    "colors = plt.cm.get_cmap(\"tab10\", len(sub_data[\"Section ID\"].unique()))\n",
    "\n",
    "# Plot\n",
    "plt.figure(figsize=(9, 6))\n",
    "\n",
    "# Loop through each section and plot automatically\n",
    "# Selecting different region based on Section ID\n",
    "for i, (section, data) in enumerate(sub_data.groupby(\"Section ID\")):\n",
    "    plt.scatter(data[\"Mean(X)\"], data[\"Mean(Y)\"], s=20, alpha = 0.3, color=colors(i), label=f\"Section ID = {section}\")\n",
    "\n",
    "for i, (section, data) in enumerate(pred_data_rt_HMC.groupby(\"Section ID\")):\n",
    "    plt.scatter(data[\"Mean(X)\"], data[\"Mean(Y)\"], s=20, color=colors(i), label=f\"Section ID Predicted = {section}\")\n",
    "\n",
    "# Add labels and title\n",
    "plt.xlabel('Mean(X)')\n",
    "plt.ylabel('Mean(Y)')\n",
    "plt.title('Measured vs Predicted Data (Radial-Tangential Model)')\n",
    "\n",
    "# Invert y-axis for better visualization (resemble ring shape)\n",
    "#plt.gca().invert_yaxis()\n",
    "\n",
    "# Add legend, adjust layout and grid\n",
    "plt.legend()\n",
    "plt.tight_layout()\n",
    "plt.grid()\n",
    "\n",
    "# Show plot\n",
    "plt.show()"
   ]
  },
  {
   "cell_type": "markdown",
   "metadata": {},
   "source": [
    "Plotting Isotropic Model vs Observed Data (HMC)"
   ]
  },
  {
   "cell_type": "code",
   "execution_count": 68,
   "metadata": {},
   "outputs": [
    {
     "name": "stderr",
     "output_type": "stream",
     "text": [
      "/tmp/ipykernel_1025/2540341742.py:2: MatplotlibDeprecationWarning: The get_cmap function was deprecated in Matplotlib 3.7 and will be removed in 3.11. Use ``matplotlib.colormaps[name]`` or ``matplotlib.colormaps.get_cmap()`` or ``pyplot.get_cmap()`` instead.\n",
      "  colors = plt.cm.get_cmap(\"tab10\", len(sub_data[\"Section ID\"].unique()))\n"
     ]
    },
    {
     "data": {
      "image/png": "[encoded data removed]",
      "text/plain": [
       "<Figure size 900x600 with 1 Axes>"
      ]
     },
     "metadata": {},
     "output_type": "display_data"
    }
   ],
   "source": [
    "# Define colors using a colormap\n",
    "colors = plt.cm.get_cmap(\"tab10\", len(sub_data[\"Section ID\"].unique()))\n",
    "\n",
    "# Plot\n",
    "plt.figure(figsize=(9, 6))\n",
    "\n",
    "# Loop through each section and plot automatically\n",
    "# Selecting different region based on Section ID\n",
    "for i, (section, data) in enumerate(sub_data.groupby(\"Section ID\")):\n",
    "    plt.scatter(data[\"Mean(X)\"], data[\"Mean(Y)\"], s=20, alpha = 0.3, color=colors(i), label=f\"Section ID = {section}\")\n",
    "\n",
    "for i, (section, data) in enumerate(pred_data_is_HMC.groupby(\"Section ID\")):\n",
    "    plt.scatter(data[\"Mean(X)\"], data[\"Mean(Y)\"], s=20, color=colors(i), label=f\"Section ID Predicted = {section}\")\n",
    "\n",
    "# Add labels and title\n",
    "plt.xlabel('Mean(X)')\n",
    "plt.ylabel('Mean(Y)')\n",
    "plt.title('Measured vs Predicted Data (Isotropic Model)')\n",
    "\n",
    "# Invert y-axis for better visualization (resemble ring shape)\n",
    "#plt.gca().invert_yaxis()\n",
    "\n",
    "# Add legend, adjust layout and grid\n",
    "plt.legend()\n",
    "plt.tight_layout()\n",
    "plt.grid()\n",
    "\n",
    "# Show plot\n",
    "plt.show()"
   ]
  },
  {
   "cell_type": "code",
   "execution_count": null,
   "metadata": {},
   "outputs": [],
   "source": [
    "import numpy as np\n",
    "import matplotlib.pyplot as plt\n",
    "import corner\n",
    "\n",
    "# Extract posterior samples from MCMC\n",
    "posterior_samples = mcmc.get_samples()\n",
    "\n",
    "# Select the parameters to plot\n",
    "params = [\"N\", \"r\", \"sigma_r\", \"sigma_t\"]  # Ensure these are the exact parameter names\n",
    "\n",
    "# Convert posterior samples to a NumPy array for plotting\n",
    "samples_array = np.column_stack([posterior_samples[param] for param in params])\n",
    "\n",
    "# Create a corner plot\n",
    "figure = corner.corner(samples_array, \n",
    "                        labels=[r\"$N$\", r\"$r$\", r\"$\\sigma_r$\", r\"$\\sigma_t$\"], \n",
    "                        quantiles=[0.16, 0.5, 0.84],  # Show 1σ confidence intervals\n",
    "                        show_titles=True, \n",
    "                        title_kwargs={\"fontsize\": 14}, \n",
    "                        label_kwargs={\"fontsize\": 14}, \n",
    "                        bins=30, \n",
    "                        smooth=1)\n",
    "\n",
    "# Show plot\n",
    "plt.show()\n"
   ]
  },
  {
   "cell_type": "markdown",
   "metadata": {},
   "source": [
    "Evidence"
   ]
  },
  {
   "cell_type": "code",
   "execution_count": 4,
   "metadata": {},
   "outputs": [],
   "source": [
    "# Prepare data\n",
    "\n",
    "# Create list of (x, y) tuples, one per section\n",
    "data_for_NS = []\n",
    "for sec_id in sorted(sub_data['Section ID'].unique()):\n",
    "    section_df = sub_data[sub_data['Section ID'] == sec_id]\n",
    "    x = section_df['Mean(X)'].to_numpy()\n",
    "    y = section_df['Mean(Y)'].to_numpy()\n",
    "    data_for_NS.append((x, y))"
   ]
  },
  {
   "cell_type": "code",
   "execution_count": 5,
   "metadata": {},
   "outputs": [],
   "source": [
    "def loglike_rt(theta):\n",
    "    return log_likelihood_rt(theta, data_for_NS, 354)"
   ]
  },
  {
   "cell_type": "code",
   "execution_count": 6,
   "metadata": {},
   "outputs": [
    {
     "name": "stderr",
     "output_type": "stream",
     "text": [
      "42332it [03:56, 178.69it/s, +500 | bound: 543 | nc: 1 | ncall: 1682961 | eff(%):  2.546 | loglstar:   -inf <  6.299 <    inf | logz: -77.832 +/-  0.410 | dlogz:  0.001 >  0.509]   \n"
     ]
    }
   ],
   "source": [
    "sampler = NestedSampler(loglike_rt, prior_transform_rt, ndim=21, nlive=500, sample='rwalk', bound='multi')\n",
    "sampler.run_nested()\n"
   ]
  },
  {
   "cell_type": "code",
   "execution_count": 7,
   "metadata": {},
   "outputs": [],
   "source": [
    "result_rt = sampler.results"
   ]
  },
  {
   "cell_type": "code",
   "execution_count": 8,
   "metadata": {},
   "outputs": [
    {
     "name": "stdout",
     "output_type": "stream",
     "text": [
      "Log Evidence (Radia-Tangential): -77.83185752596165\n"
     ]
    }
   ],
   "source": [
    "logZ_rt = result_rt.logz[-1]\n",
    "print(f\"Log Evidence (Radia-Tangential): {logZ_rt}\")\n"
   ]
  },
  {
   "cell_type": "code",
   "execution_count": 9,
   "metadata": {},
   "outputs": [],
   "source": [
    "def loglike_iso(theta):\n",
    "    return log_likelihood_isotropic(theta, data_for_NS, 354)"
   ]
  },
  {
   "cell_type": "code",
   "execution_count": 10,
   "metadata": {},
   "outputs": [
    {
     "name": "stderr",
     "output_type": "stream",
     "text": [
      "60657it [05:41, 177.50it/s, +500 | bound: 788 | nc: 1 | ncall: 2373703 | eff(%):  2.577 | loglstar:   -inf < -559.321 <    inf | logz: -680.018 +/-  0.491 | dlogz:  0.001 >  0.509]   \n"
     ]
    }
   ],
   "source": [
    "sampler_iso = NestedSampler(loglike_iso, prior_transform_isotropic, ndim=20, nlive=500, sample='rwalk', bound='multi')\n",
    "sampler_iso.run_nested()"
   ]
  },
  {
   "cell_type": "code",
   "execution_count": 11,
   "metadata": {},
   "outputs": [],
   "source": [
    "result_iso = sampler_iso.results"
   ]
  },
  {
   "cell_type": "code",
   "execution_count": 12,
   "metadata": {},
   "outputs": [
    {
     "name": "stdout",
     "output_type": "stream",
     "text": [
      "Log Evidence (Radia-Tangential): -680.0179782148359\n"
     ]
    }
   ],
   "source": [
    "logZ_iso = result_iso.logz[-1]\n",
    "print(f\"Log Evidence (Radia-Tangential): {logZ_iso}\")"
   ]
  },
  {
   "cell_type": "code",
   "execution_count": 2,
   "metadata": {},
   "outputs": [],
   "source": [
    "from numpyro.infer.autoguide import AutoDelta\n",
    "\n",
    "guide = AutoDelta(rad_tang_model_MLE)\n"
   ]
  },
  {
   "cell_type": "code",
   "execution_count": null,
   "metadata": {},
   "outputs": [],
   "source": [
    "from numpyro.infer import SVI, Trace_ELBO\n",
    "from numpyro.optim import Adam\n",
    "import jax\n",
    "import jax.numpy as jnp\n",
    "\n",
    "# Optimizer and inference setup\n",
    "optimizer = Adam(step_size=1e-2)\n",
    "svi = SVI(rad_tang_model_MLE, guide, optimizer, loss=Trace_ELBO())\n",
    "\n",
    "# Random seed\n",
    "rng_key = jax.random.PRNGKey(0)\n",
    "\n",
    "# Initialize SVI\n",
    "svi_state = svi.init(rng_key, , hole_ids, x_obs=x_obs, y_obs=y_obs)\n",
    "\n",
    "# Optimization loop\n",
    "n_steps = 3000\n",
    "for i in range(n_steps):\n",
    "    svi_state, loss = svi.update(svi_state, sections_ids, hole_ids, x_obs=x_obs, y_obs=y_obs)\n",
    "    if i % 500 == 0:\n",
    "        print(f\"[Step {i}] Loss: {loss:.2f}\")\n",
    "\n",
    "# Get the optimized parameter values (MLE estimates)\n",
    "params = svi.get_params(svi_state)\n"
   ]
  }
 ],
 "metadata": {
  "kernelspec": {
   "display_name": "s2_venv",
   "language": "python",
   "name": "python3"
  },
  "language_info": {
   "codemirror_mode": {
    "name": "ipython",
    "version": 3
   },
   "file_extension": ".py",
   "mimetype": "text/x-python",
   "name": "python",
   "nbconvert_exporter": "python",
   "pygments_lexer": "ipython3",
   "version": "3.12.3"
  }
 },
 "nbformat": 4,
 "nbformat_minor": 2
}
